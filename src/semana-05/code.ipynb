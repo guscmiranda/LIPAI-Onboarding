{
 "cells": [
  {
   "cell_type": "code",
   "execution_count": null,
   "id": "c50bc795",
   "metadata": {},
   "outputs": [],
   "source": [
    "import pandas as pd\n",
    "import numpy as np\n",
    "import matplotlib.pyplot as plt\n",
    "from pandas.api.types import is_numeric_dtype\n",
    "import seaborn as sns"
   ]
  },
  {
   "cell_type": "code",
   "execution_count": null,
   "id": "fb5503ab",
   "metadata": {},
   "outputs": [],
   "source": [
    "data = pd.read_csv(\"wine/wine.data\", sep=\",\")"
   ]
  },
  {
   "cell_type": "code",
   "execution_count": null,
   "id": "4231d960",
   "metadata": {},
   "outputs": [],
   "source": [
    "data.shape"
   ]
  },
  {
   "cell_type": "code",
   "execution_count": null,
   "id": "07604f3c",
   "metadata": {},
   "outputs": [],
   "source": [
    "data.columns = [\"Class\", \"Alcohol\", \"Malic acid\", \"Ash\", \"Alcalinity of ash\", \"Magnesium\", \n",
    " \"Total phenols\", \"Flavanoids\", \"Nonflavanoid phenols\", \"Proanthocyanins\", \n",
    " \"Color intensity\", \"Hue\", \"OD280/OD315 of diluted wines\", \"Proline\"]\n",
    "data.head()"
   ]
  },
  {
   "cell_type": "markdown",
   "id": "c6ccb7d0",
   "metadata": {},
   "source": [
    "# Exercícios"
   ]
  },
  {
   "cell_type": "markdown",
   "id": "14f4cb81",
   "metadata": {},
   "source": [
    " 1. Escolha um novo dataset e construa um programa que calcule as medidas estatísticas. Procure usar as funções apresentadas nessa atividade, assim como, outras que estão disponíveis nas bibliotecas do Python (https://www.scaler.com/topics/pandas/statistical-functions-in-pandas/)."
   ]
  },
  {
   "cell_type": "code",
   "execution_count": null,
   "id": "92fd12a0",
   "metadata": {},
   "outputs": [],
   "source": [
    "for col in data.columns:\n",
    "    if is_numeric_dtype(data[col]):\n",
    "        print('%s:' % (col))\n",
    "        # medidas de tendência central\n",
    "        print('\\t Média = %.2f' % data[col].mean())\n",
    "        print('\\t Mediana = %.2f' % data[col].median())\n",
    "\n",
    "        print('\\t Desvio padrão = %.2f' % data[col].std())\n",
    "        print('\\t Variância = %.2f' % data[col].var())\n",
    "        print('\\t Mínimo = %.2f' % data[col].min())\n",
    "        print('\\t Máximo = %.2f' % data[col].max())"
   ]
  },
  {
   "cell_type": "markdown",
   "id": "27cdc362",
   "metadata": {},
   "source": [
    "2. Use o dataset escolhido e mostre por meio das representações gráficas (histogramas) as principais características. Procure usar as funções apresentadas nesta atividade."
   ]
  },
  {
   "cell_type": "code",
   "execution_count": null,
   "id": "6ecc8949",
   "metadata": {},
   "outputs": [],
   "source": [
    "classes = data['Class'].unique() \n",
    "cores = ['#4682B4', '#9370DB', '#3CB371']\n",
    "\n",
    "for col in data.columns[1:]:\n",
    "    fig, axes = plt.subplots(1, len(classes), figsize=(5 * len(classes), 4), sharey=True) \n",
    "    fig.suptitle(f'Histograma {col}', fontsize=14)\n",
    "\n",
    "    for i, classe in enumerate(classes):\n",
    "        selecao_classe = data[data['Class'] == classe]\n",
    "        sns.histplot(data=selecao_classe, x=col, bins=20,kde=True, ax=axes[i], color=cores[i]) # kre(Kernel Density Estimate) -- adiciona curva de densidade\n",
    "        axes[i].set_title(f'Classe {classe}')\n",
    "        axes[i].set_xlabel(col)\n",
    "        axes[i].set_ylabel('Frequência')\n",
    "\n",
    "    plt.tight_layout()\n",
    "    plt.show()\n"
   ]
  },
  {
   "cell_type": "markdown",
   "id": "e75ad702",
   "metadata": {},
   "source": [
    "3. O dataset Iris não possui valores ausentes. A base escolhida também pode conter todos os descritores por cada amostra. Use um dataset e sobre as amostras impute valores ausentes usando a média, mediana ou outras medidas."
   ]
  },
  {
   "cell_type": "code",
   "execution_count": null,
   "id": "60f87325",
   "metadata": {},
   "outputs": [],
   "source": [
    "# O dataset não possui valores ausentes (NaN)\n",
    "\n",
    "#Resumo de todos os atributos. Se um atributo for quantitativo, ele exibirá sua média, desvio padrão e vários valores de quantis (incluindo mínimo, mediano e máximo).\n",
    "#Se um atributo for qualitativo, ele exibirá seu número de valores exclusivos e os valores principais (mais frequentes).\n",
    "\n",
    "data.describe(include='all')\n",
    "    "
   ]
  },
  {
   "cell_type": "code",
   "execution_count": null,
   "id": "36bb9648",
   "metadata": {},
   "outputs": [],
   "source": [
    "# Para verificar se há valores ausentes:\n",
    "\n",
    "data.isnull().sum()"
   ]
  },
  {
   "cell_type": "code",
   "execution_count": null,
   "id": "e08955f9",
   "metadata": {},
   "outputs": [],
   "source": [
    "# Examina linhas com valores ausentes em qualquer coluna:\n",
    "\n",
    "data.loc[data.isnull().any(axis=1)]"
   ]
  },
  {
   "cell_type": "code",
   "execution_count": null,
   "id": "67418628",
   "metadata": {},
   "outputs": [],
   "source": [
    "# Sustitui os valores NaN por valores zeros (0s):\n",
    "data.fillna(0)\n",
    "\n",
    "# Sustitui os valores NaN pela média da coluna:\n",
    "data.fillna(data.mean())\n",
    "\n",
    "# Sustitui os valores NaN pela mediana da coluna:\n",
    "data.fillna(data.median())\n"
   ]
  },
  {
   "cell_type": "markdown",
   "id": "474d8c55",
   "metadata": {},
   "source": [
    "4. Após aplicação das operações, faça a representação gráfica com histogramas das novas características dos dados analisados."
   ]
  },
  {
   "cell_type": "markdown",
   "id": "ed71e707",
   "metadata": {},
   "source": [
    "Como o dataset não possui valores ausentes, a representação gráfica, com histogramas, segue a mesma que demonstrada no exercício 2"
   ]
  },
  {
   "cell_type": "markdown",
   "id": "05fa7b12",
   "metadata": {},
   "source": [
    "5. Compare os resultados obtidos usando um gráfico box plot. Que atributos possuem distribuições mais simétricas? Há a presença de valores extremos, denominados de outliers, para os atributos?"
   ]
  },
  {
   "cell_type": "code",
   "execution_count": null,
   "id": "27c64a32",
   "metadata": {},
   "outputs": [],
   "source": [
    "classes = data['Class'].unique() \n",
    "cores = [\"#51A6EC\", '#9370DB', '#3CB371']\n",
    "\n",
    "for col in data.columns[1:]:\n",
    "    fig, axes = plt.subplots(1, len(classes), figsize=(5 *len(classes), 6)) \n",
    "    fig.suptitle(f'Boxplot {col}', fontsize=14)\n",
    "\n",
    "    for i, classe in enumerate(classes):\n",
    "        selecao_classe = data[data['Class'] == classe]\n",
    "        sns.boxplot(data=selecao_classe, y=col, ax=axes[i], color=cores[i])\n",
    "        axes[i].set_title(f'Classe {classe}')\n",
    "        axes[i].set_ylabel(\"\")\n",
    "\n",
    "    plt.tight_layout()\n",
    "    plt.show()"
   ]
  },
  {
   "cell_type": "code",
   "execution_count": null,
   "id": "51bd99b0",
   "metadata": {},
   "outputs": [],
   "source": [
    "cores = [\"#51A6EC\", '#9370DB', '#3CB371']\n",
    "\n",
    "fig, axes = plt.subplots(5, 3, figsize=(10, 12)) \n",
    "\n",
    "for i, col in enumerate(data.columns[1:]):\n",
    "    ax=axes[i // 3, i % 3]\n",
    "    sns.boxplot(data=data, y=col, color=cores[i % len(cores)], ax=ax)\n",
    "    ax.set_title(f'Boxplot {col}', fontsize=12)\n",
    "    ax.set_ylabel(\"\")\n",
    "    plt.tight_layout()\n",
    "\n",
    "axes[4, 1].set_visible(False)\n",
    "axes[4, 2].set_visible(False)\n",
    "\n",
    "\n",
    "plt.show()"
   ]
  },
  {
   "cell_type": "markdown",
   "id": "6f691141",
   "metadata": {},
   "source": [
    "Entre os atributos, o álcool é o que possui a maior simetria de atributos.\n",
    "É possível observar diversos outliers - indicados por símbolos circulares no gráfico - em atributos como, por exemplo, 'Malic Acid', 'Ash' e 'Magnesium'."
   ]
  },
  {
   "cell_type": "markdown",
   "id": "92358d12",
   "metadata": {},
   "source": [
    "6. No dataset escolhido selecione intervalos de amostragem (10%, 30% e 50% - Progressiva) e faça análises sobre os dados em relação as métricas estatísticas. O que você pode observar sobre os subconjuntos em relação as métricas estatísticas com a nova composição dos dados?"
   ]
  },
  {
   "cell_type": "code",
   "execution_count": null,
   "id": "ae4cf079",
   "metadata": {},
   "outputs": [],
   "source": [
    "amostragem = [0.1, 0.3, 0.5, 0.7, 1]\n",
    "\n",
    "for p in amostragem:\n",
    "    print(50*'=',f'\\nAnálise estatística de {p*100:.0f}% dos dados\\n' + 50*'=')\n",
    "    \n",
    "    n_primeiras = int(len(data) * p)\n",
    "    amostra = data.iloc[:n_primeiras]\n",
    "\n",
    "    print(amostra.describe())\n",
    "    print(\"\")"
   ]
  },
  {
   "cell_type": "markdown",
   "id": "fbc0343d",
   "metadata": {},
   "source": [
    "Com o aumento da amostra, as métricas estatísticas tornam-se mais estáveis e mais próximas das do dataset completo. Enquanto isso, amostras pequenas são mais sensíveis a variações excepcionais, como outliers, podendo distorcer a percepção da real distribuição dos dados."
   ]
  }
 ],
 "metadata": {
  "kernelspec": {
   "display_name": "Python 3",
   "language": "python",
   "name": "python3"
  },
  "language_info": {
   "codemirror_mode": {
    "name": "ipython",
    "version": 3
   },
   "file_extension": ".py",
   "mimetype": "text/x-python",
   "name": "python",
   "nbconvert_exporter": "python",
   "pygments_lexer": "ipython3",
   "version": "3.13.5"
  }
 },
 "nbformat": 4,
 "nbformat_minor": 5
}
